{
  "nbformat": 4,
  "nbformat_minor": 0,
  "metadata": {
    "colab": {
      "name": "msen330_homework_7_solutions.ipynb",
      "provenance": []
    },
    "kernelspec": {
      "name": "python3",
      "display_name": "Python 3"
    },
    "language_info": {
      "name": "python"
    }
  },
  "cells": [
    {
      "cell_type": "code",
      "metadata": {
        "id": "BXAcPXvlhlnP"
      },
      "source": [
        "import numpy as np \n",
        "import pandas as pd \n",
        "import matplotlib.pyplot as plt"
      ],
      "execution_count": null,
      "outputs": []
    },
    {
      "cell_type": "code",
      "metadata": {
        "id": "PXMf86SgznhR"
      },
      "source": [
        "# helper functions\n",
        "def true_error(yhat,y): \n",
        "  return 100 * abs(yhat-y)/y"
      ],
      "execution_count": null,
      "outputs": []
    },
    {
      "cell_type": "markdown",
      "metadata": {
        "id": "fwCAjXeliEIe"
      },
      "source": [
        "### 1 (19.4) \n",
        "Evaluate the integral: \n",
        "$ \\int_{-2}^{4} 1-x-4x^3+2x^5 dx $ \n",
        "\n",
        "\n",
        "Using: \n",
        "(a) Analytical\n",
        "(b) Single Trapezoid\n",
        "(c) Composite Trapezoid\n",
        "(d) Single Simpson 1/3\n",
        "(e) Composite Simpson 1/3\n",
        "(f) Single Simpson 3/8\n",
        "(g) Boole's Rule"
      ]
    },
    {
      "cell_type": "code",
      "metadata": {
        "colab": {
          "base_uri": "https://localhost:8080/",
          "height": 282
        },
        "id": "u_49zfzkhuON",
        "outputId": "359a0f06-20a2-4f50-c655-fe600af172a1"
      },
      "source": [
        "#(a)analyticcally\n",
        "\n",
        "# plot for vis: \n",
        "def func(x): \n",
        "  return 1 - x - 4*x**3 + 2*x**5\n",
        "\n",
        "\n",
        "xplt = np.linspace(-2.2,4.2,100)\n",
        "plt.plot(xplt,func(xplt))\n",
        "plt.axhline(0,lw=1,c='k')\n",
        "#plt.axvline(0,lw=1,c='k')\n",
        "plt.show()\n",
        "\n",
        "Ia = 1104\n",
        "print(f'analytical solution = {Ia}')\n"
      ],
      "execution_count": null,
      "outputs": [
        {
          "output_type": "display_data",
          "data": {
            "image/png": "[encoded data removed]",
            "text/plain": [
              "<Figure size 432x288 with 1 Axes>"
            ]
          },
          "metadata": {
            "tags": [],
            "needs_background": "light"
          }
        },
        {
          "output_type": "stream",
          "text": [
            "analytical solution = 1104\n"
          ],
          "name": "stdout"
        }
      ]
    },
    {
      "cell_type": "code",
      "metadata": {
        "colab": {
          "base_uri": "https://localhost:8080/",
          "height": 300
        },
        "id": "cDh0mGE4jKTS",
        "outputId": "960979cc-516f-4ac5-ad80-f078894bd43b"
      },
      "source": [
        "# single application of trapezoid\n",
        "Ia = 1104\n",
        "\n",
        "def func(x): \n",
        "  return 1 - x - 4*x**3 + 2*x**5\n",
        "\n",
        "def single_trap(func,a,b): \n",
        "  area = (b-a) * (func(a) + func(b))/2\n",
        "  return area\n",
        "\n",
        "x0 = -2 \n",
        "y0 = func(x0)\n",
        "x1 = 4\n",
        "y1 = func(x1)\n",
        "\n",
        "# plot for vis\n",
        "plt.plot(xplt,func(xplt))\n",
        "plt.axhline(0,lw=1,c='k')\n",
        "plt.plot([x0,x1],[y0,y1],ls='--')\n",
        "plt.fill_between([x0,x1],[y0,y1],alpha=0.2)\n",
        "plt.scatter(x0,y0,c='r')\n",
        "plt.scatter(x1,y1,c='r')\n",
        "plt.show()\n",
        "\n",
        "# Solve\n",
        "I = single_trap(func,x0,x1)\n",
        "err = true_error(I,Ia)\n",
        "\n",
        "print(f'single trapezoid solution = {I}')\n",
        "print(f'True error (Et) = {err:.1f} %')"
      ],
      "execution_count": null,
      "outputs": [
        {
          "output_type": "display_data",
          "data": {
            "image/png": "[encoded data removed]",
            "text/plain": [
              "<Figure size 432x288 with 1 Axes>"
            ]
          },
          "metadata": {
            "tags": [],
            "needs_background": "light"
          }
        },
        {
          "output_type": "stream",
          "text": [
            "single trapezoid solution = 5280.0\n",
            "True error (Et) = 378.3 %\n"
          ],
          "name": "stdout"
        }
      ]
    },
    {
      "cell_type": "code",
      "metadata": {
        "colab": {
          "base_uri": "https://localhost:8080/"
        },
        "id": "cjL2VqG9yTwE",
        "outputId": "8cd366f5-f3c1-4943-fa6e-02d7efef73b1"
      },
      "source": [
        "Ia = 1104\n",
        "\n",
        "def func(x): \n",
        "  return 1 - x - 4*x**3 + 2*x**5\n",
        "\n",
        "def comp_trap(f,a,b,n): \n",
        "  f0 = f(a)\n",
        "  f1 = f(b)\n",
        "  xn = np.linspace(a,b,n+1)\n",
        "  xnn = xn[1:-1]\n",
        "  sum = np.array([f(xi) for xi in xnn]).sum()\n",
        "  I = (b-a) * (f0 + 2*sum + f1)/(2*n)\n",
        "  return I\n",
        "\n",
        "ans_n2 = comp_trap(func,-2,4,2) \n",
        "ans_n4 = comp_trap(func,-2,4,4) \n",
        "\n",
        "print('Composite Trapezoid Results:')\n",
        "print(f'when N=2: I = {ans_n2}, Et = {true_error(ans_n2,Ia):.1f}%')\n",
        "print(f'when N=4: I = {ans_n4}, Et = {true_error(ans_n4,Ia):.1f}%')\n"
      ],
      "execution_count": null,
      "outputs": [
        {
          "output_type": "stream",
          "text": [
            "Composite Trapezoid Results:\n",
            "when N=2: I = 2634.0, Et = 138.6%\n",
            "when N=4: I = 1516.875, Et = 37.4%\n"
          ],
          "name": "stdout"
        }
      ]
    },
    {
      "cell_type": "code",
      "metadata": {
        "colab": {
          "base_uri": "https://localhost:8080/"
        },
        "id": "6iY1EfnL0OfM",
        "outputId": "38ccc3e3-dcc9-4182-c71d-df0ff7936e62"
      },
      "source": [
        "# single 1/3 simpson\n",
        "Ia = 1104\n",
        "\n",
        "def func(x): \n",
        "  return 1 - x - 4*x**3 + 2*x**5\n",
        "\n",
        "def single_simpson(f,a,b): \n",
        "  m = (b+a)/2\n",
        "  f0,f2 = f(a),f(b) # a and b eval\n",
        "  f1 = f(m) # midpoint eval\n",
        "  I = (b-a) * (f0 + 4*f1 + f2)/6\n",
        "  return I \n",
        "\n",
        "# solve: \n",
        "a,b = -2,4\n",
        "I = single_simpson(func,a,b)\n",
        "err = true_error(I,Ia)\n",
        "print(f'I = {I}, Et = {err:.1f}%')"
      ],
      "execution_count": null,
      "outputs": [
        {
          "output_type": "stream",
          "text": [
            "I = 1752.0, Et = 58.7%\n"
          ],
          "name": "stdout"
        }
      ]
    },
    {
      "cell_type": "code",
      "metadata": {
        "colab": {
          "base_uri": "https://localhost:8080/"
        },
        "id": "p35YM-QnBC5D",
        "outputId": "6a9f5a52-3b99-4094-f04f-961aa21bd345"
      },
      "source": [
        "# single Simples 3/8th Rule: \n",
        "Ia = 1104\n",
        "\n",
        "def func(x): \n",
        "  return 1 - x - 4*x**3 + 2*x**5\n",
        "\n",
        "def single_simpson38(f,a,b): \n",
        "  f0,f1,f2,f3 = f(np.linspace(a,b,num=4))\n",
        "  I = (b-a) * (f0 + 3*(f1+f2) + f3)/8\n",
        "  return I\n",
        "\n",
        "# solve: \n",
        "a,b = -2,4\n",
        "I = single_simpson38(func,a,b)\n",
        "err = true_error(I,Ia)\n",
        "print(f'I = {I}, Et = {err:.1f}%')"
      ],
      "execution_count": null,
      "outputs": [
        {
          "output_type": "stream",
          "text": [
            "I = 1392.0, Et = 26.1%\n"
          ],
          "name": "stdout"
        }
      ]
    },
    {
      "cell_type": "code",
      "metadata": {
        "colab": {
          "base_uri": "https://localhost:8080/"
        },
        "id": "yH53kGn-FsmU",
        "outputId": "d6fdaeed-f07a-4f6b-8f33-401bef45a1ed"
      },
      "source": [
        "# Boole's Rule: \n",
        "Ia = 1104\n",
        "\n",
        "def func(x): \n",
        "  return 1 - x - 4*x**3 + 2*x**5\n",
        "\n",
        "def BoolesInt(f,a,b): \n",
        "  f0,f1,f2,f3,f4 = func(np.linspace(a,b,num=5))\n",
        "  return (b-a) * (7*f0 + 32*f1 + 12*f2 + 32*f3 + 7*f4)/(90)\n",
        "\n",
        "  # solve: \n",
        "a,b = -2,4\n",
        "I = BoolesInt(func,a,b)\n",
        "err = true_error(I,Ia)\n",
        "print(f'I = {I}, Et = {err:.1f}%')"
      ],
      "execution_count": null,
      "outputs": [
        {
          "output_type": "stream",
          "text": [
            "I = 1104.0, Et = 0.0%\n"
          ],
          "name": "stdout"
        }
      ]
    },
    {
      "cell_type": "markdown",
      "metadata": {
        "id": "aPjYuy4j6MEN"
      },
      "source": [
        "### all methods here"
      ]
    },
    {
      "cell_type": "code",
      "metadata": {
        "colab": {
          "base_uri": "https://localhost:8080/",
          "height": 227
        },
        "id": "JWStEf9z0PCX",
        "outputId": "6d2036b0-2708-4f96-ec01-75a9ad07bb82"
      },
      "source": [
        "# all methods\n",
        "\n",
        "def func(x): \n",
        "  return 1 - x - 4*x**3 + 2*x**5\n",
        "a,b = -2,4\n",
        "Ia = 1104\n",
        "method_names = ['single trapezoid','composite trapezoid (n=2)','composite trapezoid (n=4)','Simpson 1/3','Simpson 3/8',\"Boole's Rule\"]\n",
        "methods = [single_trap(func,a,b),\n",
        "           comp_trap(func,a,b,n=2),\n",
        "           comp_trap(func,a,b,n=4),\n",
        "           single_simpson(func,a,b),\n",
        "           single_simpson38(func,a,b),\n",
        "           BoolesInt(func,a,b)      \n",
        "           ]\n",
        "errors = [true_error(i,Ia) for i in methods]\n",
        "df = pd.DataFrame(np.column_stack((method_names,methods,errors)),columns=['Methods','I','Error %']) \n",
        "df"
      ],
      "execution_count": null,
      "outputs": [
        {
          "output_type": "execute_result",
          "data": {
            "text/html": [
              "<div>\n",
              "<style scoped>\n",
              "    .dataframe tbody tr th:only-of-type {\n",
              "        vertical-align: middle;\n",
              "    }\n",
              "\n",
              "    .dataframe tbody tr th {\n",
              "        vertical-align: top;\n",
              "    }\n",
              "\n",
              "    .dataframe thead th {\n",
              "        text-align: right;\n",
              "    }\n",
              "</style>\n",
              "<table border=\"1\" class=\"dataframe\">\n",
              "  <thead>\n",
              "    <tr style=\"text-align: right;\">\n",
              "      <th></th>\n",
              "      <th>Methods</th>\n",
              "      <th>I</th>\n",
              "      <th>Error %</th>\n",
              "    </tr>\n",
              "  </thead>\n",
              "  <tbody>\n",
              "    <tr>\n",
              "      <th>0</th>\n",
              "      <td>single trapezoid</td>\n",
              "      <td>5280.0</td>\n",
              "      <td>378.2608695652174</td>\n",
              "    </tr>\n",
              "    <tr>\n",
              "      <th>1</th>\n",
              "      <td>composite trapezoid (n=2)</td>\n",
              "      <td>2634.0</td>\n",
              "      <td>138.58695652173913</td>\n",
              "    </tr>\n",
              "    <tr>\n",
              "      <th>2</th>\n",
              "      <td>composite trapezoid (n=4)</td>\n",
              "      <td>1516.875</td>\n",
              "      <td>37.39809782608695</td>\n",
              "    </tr>\n",
              "    <tr>\n",
              "      <th>3</th>\n",
              "      <td>Simpson 1/3</td>\n",
              "      <td>1752.0</td>\n",
              "      <td>58.69565217391305</td>\n",
              "    </tr>\n",
              "    <tr>\n",
              "      <th>4</th>\n",
              "      <td>Simpson 3/8</td>\n",
              "      <td>1392.0</td>\n",
              "      <td>26.08695652173913</td>\n",
              "    </tr>\n",
              "    <tr>\n",
              "      <th>5</th>\n",
              "      <td>Boole's Rule</td>\n",
              "      <td>1104.0</td>\n",
              "      <td>0.0</td>\n",
              "    </tr>\n",
              "  </tbody>\n",
              "</table>\n",
              "</div>"
            ],
            "text/plain": [
              "                     Methods         I             Error %\n",
              "0           single trapezoid    5280.0   378.2608695652174\n",
              "1  composite trapezoid (n=2)    2634.0  138.58695652173913\n",
              "2  composite trapezoid (n=4)  1516.875   37.39809782608695\n",
              "3                Simpson 1/3    1752.0   58.69565217391305\n",
              "4                Simpson 3/8    1392.0   26.08695652173913\n",
              "5               Boole's Rule    1104.0                 0.0"
            ]
          },
          "metadata": {
            "tags": []
          },
          "execution_count": 9
        }
      ]
    },
    {
      "cell_type": "markdown",
      "metadata": {
        "id": "c5hAYduyGvHU"
      },
      "source": [
        "### 2 (19.12)\n",
        "\n",
        "An 11 m long beam is subjected to a load, and the shear force follows the\n",
        "equation\n",
        "\n",
        "$ V(x) = 5 + 0.25x^2$\n",
        "\n",
        "where $V$ is the shear force, and $x$ is the length in distance along the beam. We know that $V(x) = \\frac{dM}{dx}$, and $M$ is the bending moment. Integration yields the relationship\n",
        "\n",
        "$M = M_0 + \\int_{0}^{X} V(x) dx$\n",
        "\n",
        "If $M_0 = 0$ for $x=0$, and the upper integral limit, $X - 11$ m, calculate $M$ (a) analytically, (b) using the composite trapezoid rule, and (c) composite Simpson Rule.\n",
        "Use 1 m increments "
      ]
    },
    {
      "cell_type": "code",
      "metadata": {
        "colab": {
          "base_uri": "https://localhost:8080/",
          "height": 264
        },
        "id": "m_QTcFs3Gw-8",
        "outputId": "054f73f5-f714-4a22-8a94-cc6e076d8e49"
      },
      "source": [
        "# given\n",
        "\n",
        "def Vx(x): \n",
        "  return 5 + 0.25*x**2\n",
        "\n",
        "m = 1\n",
        "X = 11 \n",
        "a,b = 0,X \n",
        "\n",
        "# plot for visual: \n",
        "xplt = np.linspace(0,X+0.5)\n",
        "plt.plot(xplt,Vx(xplt),label='V(x)')\n",
        "plt.axhline(0,lw=1,c='k')\n",
        "plt.axvline(0,lw=1,c='k')\n",
        "plt.fill_between(np.linspace(a,b),Vx(np.linspace(a,b)),alpha=0.2)\n",
        "plt.legend(loc=2)\n",
        "plt.show()\n",
        "\n",
        "\n",
        "\n",
        "Ia = 165.9167"
      ],
      "execution_count": null,
      "outputs": [
        {
          "output_type": "display_data",
          "data": {
            "image/png": "[encoded data removed]",
            "text/plain": [
              "<Figure size 432x288 with 1 Axes>"
            ]
          },
          "metadata": {
            "tags": [],
            "needs_background": "light"
          }
        }
      ]
    },
    {
      "cell_type": "markdown",
      "metadata": {
        "id": "dbQd42AsmYa5"
      },
      "source": [
        "If $M_0$ = 0 then the equation reduces to\n",
        "\n",
        "$M = \\int_0^{X=11} V(x) dx $\n"
      ]
    },
    {
      "cell_type": "code",
      "metadata": {
        "id": "co37W41_MHc4"
      },
      "source": [
        "# composite Simpson 1/3\n",
        "\n",
        "def simpson13(f,a,b,n): \n",
        "  # n must be even, so if n is odd, I add an additional interval to make it even\n",
        "  if n%2 !=0: \n",
        "    n = int(n+1)\n",
        "  f0,f1 = f(a),f(b)\n",
        "  xN = np.linspace(a,b,n+1)\n",
        "  xNN = xN[1:-1]\n",
        "  f_even  = np.array([f(xi) for xi in xNN[1::2]]).sum() \n",
        "  f_odd = np.array([f(xj) for xj in xNN[::2]]).sum() \n",
        "  I = (b-a) * (f0 + 4*f_odd + 2*f_even + f(b))/(3*n)\n",
        "  return I \n"
      ],
      "execution_count": null,
      "outputs": []
    },
    {
      "cell_type": "code",
      "metadata": {
        "id": "pFxqNP2lJtQr",
        "colab": {
          "base_uri": "https://localhost:8080/"
        },
        "outputId": "5a5e1154-43a1-4d8f-f24c-66b9331fb159"
      },
      "source": [
        "# b\n",
        "m = 1\n",
        "X = 11 \n",
        "a,b = 0,X\n",
        "m = 1\n",
        "\n",
        "# get n from m\n",
        "n = int((b-a)/m) \n",
        "print(f'Number of segments = {n}')\n",
        "\n",
        "I = comp_trap(Vx,0,X,n)\n",
        "err = true_error(I,Ia)\n",
        "print(f'I = {I}, Et = {err:.3f}%')"
      ],
      "execution_count": null,
      "outputs": [
        {
          "output_type": "stream",
          "text": [
            "Number of segments = 11\n",
            "I = 166.375, Et = 0.276%\n"
          ],
          "name": "stdout"
        }
      ]
    },
    {
      "cell_type": "code",
      "metadata": {
        "colab": {
          "base_uri": "https://localhost:8080/"
        },
        "id": "jZm3PapuzPKV",
        "outputId": "ab3a274a-4eb4-4f54-96b6-27c012326800"
      },
      "source": [
        "I = simpson13(Vx,0,X,n)\n",
        "err = true_error(I,Ia)\n",
        "print(f'I = {I}, Et = {err:.3f}%')"
      ],
      "execution_count": null,
      "outputs": [
        {
          "output_type": "stream",
          "text": [
            "I = 165.91666666666666, Et = 0.000%\n"
          ],
          "name": "stdout"
        }
      ]
    },
    {
      "cell_type": "markdown",
      "metadata": {
        "id": "QVaGAX8dOmiD"
      },
      "source": [
        "### 3 (20.2)\n",
        "Evaluate the following integral\n",
        "\n",
        "$I = \\int_0^8 (-0.055x^4 + 0.86x^3 - 4.2x^2 + 6.3x + 2)dx $\n",
        "\n",
        "(a) analytically\n",
        "(b) Romberg integration (with $\\epsilon$=0.5%) \n",
        "(c) Three-point Gauss quadrature formula."
      ]
    },
    {
      "cell_type": "code",
      "metadata": {
        "id": "Bs6Y_vhZ2kA5",
        "colab": {
          "base_uri": "https://localhost:8080/",
          "height": 282
        },
        "outputId": "6aa74a30-99b6-4ea1-8e36-31d786fac8e4"
      },
      "source": [
        "# define function\n",
        "def f(x): \n",
        "  return -0.055*x**4 + 0.86*x**3 - 4.2*x**2 + 6.3*x +2\n",
        "\n",
        "# plot for vis\n",
        "xplot = np.linspace(0,8)\n",
        "plt.plot(xplot, f(xplot))\n",
        "plt.fill_between(xplot,f(xplot),alpha=0.2)\n",
        "plt.axhline(0,lw=1,c='k')\n",
        "plt.axvline(0,lw=1,c='k')\n",
        "plt.show()\n",
        "\n",
        "# (a) Analytical Solution\n",
        "Ia = 20.992  # solve elseware\n",
        "print(f'Analytical Solution Ia = {Ia}')"
      ],
      "execution_count": null,
      "outputs": [
        {
          "output_type": "display_data",
          "data": {
            "image/png": "[encoded data removed]",
            "text/plain": [
              "<Figure size 432x288 with 1 Axes>"
            ]
          },
          "metadata": {
            "tags": [],
            "needs_background": "light"
          }
        },
        {
          "output_type": "stream",
          "text": [
            "Analytical Solution Ia = 20.992\n"
          ],
          "name": "stdout"
        }
      ]
    },
    {
      "cell_type": "code",
      "metadata": {
        "colab": {
          "base_uri": "https://localhost:8080/"
        },
        "id": "7mQbpgOLnCis",
        "outputId": "0fe3e814-7c09-494d-c981-80fd9fa54c9d"
      },
      "source": [
        "# (b)\n",
        "# will use scipy.integrate.romberg\n",
        "from scipy.integrate import romberg\n",
        "\n",
        "I = romberg(f,0,8,show=True,tol=0.005)"
      ],
      "execution_count": null,
      "outputs": [
        {
          "output_type": "stream",
          "text": [
            "Romberg integration of <function vectorize1.<locals>.vfunc at 0x7ff49bf35440> from [0, 8]\n",
            "\n",
            " Steps  StepSize   Results\n",
            "     1  8.000000  2.560000 \n",
            "     2  4.000000  5.120000  5.973333 \n",
            "     4  2.000000 16.320000 20.053333 20.992000 \n",
            "     8  1.000000 19.780000 20.933333 20.992000 20.992000 \n",
            "\n",
            "The final result is 20.99199999999997 after 9 function evaluations.\n"
          ],
          "name": "stdout"
        }
      ]
    },
    {
      "cell_type": "code",
      "metadata": {
        "colab": {
          "base_uri": "https://localhost:8080/"
        },
        "id": "2SR-95iDpwH3",
        "outputId": "e1de7f6c-ffbd-4404-9ecb-2d9bff471bd8"
      },
      "source": [
        "# (c) Gauss Quadrature\n",
        "# will use python prebuilt code\n",
        "from scipy.integrate import quadrature\n",
        "\n",
        "I = quadrature(f,0,8)\n",
        "print(f'I = {I[0]}')\n"
      ],
      "execution_count": null,
      "outputs": [
        {
          "output_type": "stream",
          "text": [
            "I = 20.991999999999813\n"
          ],
          "name": "stdout"
        }
      ]
    },
    {
      "cell_type": "markdown",
      "metadata": {
        "id": "BT1DQOIdPhQ_"
      },
      "source": [
        "### 4 (21.4)\n",
        "\n",
        "Use Richardson extrapolation to estimate the first derivative of $ y = cos(x) $ at x = $\\pi/4$ using step sizes $h_1 = pi/3$ and $h_2 = pi/6$. Employ centered differences of $O(h^2)$ for the initial estimates\n",
        "\n",
        "$I = \\frac{4}{3} I(h_2) - \\frac{1}{3} I(h_1)$"
      ]
    },
    {
      "cell_type": "code",
      "metadata": {
        "colab": {
          "base_uri": "https://localhost:8080/"
        },
        "id": "XYfe1TVHl4Yu",
        "outputId": "20d1521c-9318-4cb2-f691-718d0c978e68"
      },
      "source": [
        "def f(x): \n",
        "  return np.cos(x)\n",
        "\n",
        "def CentralFiniteDiff(f,x,dx=1e-6): \n",
        "  return ( f(x+dx) - f(x-dx)) / (2*dx)\n",
        "\n",
        "def richard_extrap(f,x,h1,h2):\n",
        "  # Eq. 20.5\n",
        "  return (4/3)*CentralFiniteDiff(f,x,dx=h2) - (1/3)*CentralFiniteDiff(f,x,dx=h1) \n",
        "\n",
        "\n",
        "x = np.pi/4\n",
        "h1 = np.pi/3\n",
        "h2 = np.pi/6\n",
        "\n",
        "res_h1 = CentralFiniteDiff(f,x,dx=h1)\n",
        "res_h2 = CentralFiniteDiff(f,x,dx=h2)\n",
        "print(res_h1,res_h2)\n",
        "\n",
        "richard_extrap(f,x,h1,h2)"
      ],
      "execution_count": null,
      "outputs": [
        {
          "output_type": "stream",
          "text": [
            "-0.5847726009252571 -0.6752372371178295\n"
          ],
          "name": "stdout"
        },
        {
          "output_type": "execute_result",
          "data": {
            "text/plain": [
              "-0.7053921158486869"
            ]
          },
          "metadata": {
            "tags": []
          },
          "execution_count": 17
        }
      ]
    },
    {
      "cell_type": "markdown",
      "metadata": {
        "id": "8fDdFYKml4tX"
      },
      "source": [
        "### Export to PDF"
      ]
    }
  ]
}