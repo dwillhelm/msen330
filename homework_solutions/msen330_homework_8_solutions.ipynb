{
  "nbformat": 4,
  "nbformat_minor": 0,
  "metadata": {
    "colab": {
      "name": "msen330_homework_8_solutions.ipynb",
      "provenance": []
    },
    "kernelspec": {
      "name": "python3",
      "display_name": "Python 3"
    },
    "language_info": {
      "name": "python"
    }
  },
  "cells": [
    {
      "cell_type": "markdown",
      "metadata": {
        "id": "82_eazcQftuh"
      },
      "source": [
        "### Question 1"
      ]
    },
    {
      "cell_type": "markdown",
      "metadata": {
        "id": "ahPZ7bmTf1bb"
      },
      "source": [
        "#### all methods here"
      ]
    },
    {
      "cell_type": "code",
      "metadata": {
        "colab": {
          "base_uri": "https://localhost:8080/"
        },
        "id": "pnbCro5rWqk0",
        "outputId": "961e8653-1c31-4523-c2ae-cf15ec21b839"
      },
      "source": [
        "import numpy as np \n",
        "import matplotlib.pyplot as plt\n",
        "import pandas as pd \n",
        "\n",
        "data = 0 \n",
        "def Fanaly(x): \n",
        "  return (0.5 * (x + x**2 + 2))**2\n",
        "\n",
        "b0, b1 = 0, 1\n",
        "\n",
        "h = 0.25\n",
        "n = int(abs(b1-b0)/h); print(n)\n",
        "\n",
        "\n",
        "xplot = np.linspace(b0,b1,n+1)\n",
        "xdense = np.linspace(0,1)\n",
        "#plt.scatter(xplot,Fanaly(xplot),ec='k')\n",
        "#plt.plot(xdense,Fanaly(xdense),alpha=0.4)\n",
        "#plt.show()\n",
        "\n",
        "x = np.linspace(b0,b1,n+1)\n",
        "y_analy = Fanaly(x)\n",
        "\n",
        "columns = ['x','analytical']\n",
        "data = np.column_stack((x,y_analy)) "
      ],
      "execution_count": null,
      "outputs": [
        {
          "output_type": "stream",
          "text": [
            "4\n"
          ],
          "name": "stdout"
        }
      ]
    },
    {
      "cell_type": "code",
      "metadata": {
        "colab": {
          "base_uri": "https://localhost:8080/"
        },
        "id": "brd5HQbui1kz",
        "outputId": "77601867-5b1f-4d5e-9ba6-5f41ed9e62b6"
      },
      "source": [
        "def f(y,t): \n",
        "  return (1+2*t) * np.sqrt(y)\n",
        "\n",
        "def eulers(f,bounds,t0,y0,h):\n",
        "  b0, b1 = bounds\n",
        "  n = int(abs(b1-b0)/h)\n",
        "  t = np.linspace(b0,b1,n+1)\n",
        "  y = np.zeros(t.shape[0])\n",
        "  y[0] = y0\n",
        "\n",
        "  for i in range(len(t)-1):  \n",
        "    y[i+1] = y[i] + f(y[i],t[i])*h\n",
        "  \n",
        "  return t,y\n",
        "\n",
        "_, y = eulers(f,(0,1),0,1,0.25)\n",
        "print(y)\n",
        "columns.append('Eulers')\n",
        "data = np.column_stack((data,y))\n"
      ],
      "execution_count": null,
      "outputs": [
        {
          "output_type": "stream",
          "text": [
            "[1.         1.25       1.66926275 2.3152625  3.26626167]\n"
          ],
          "name": "stdout"
        }
      ]
    },
    {
      "cell_type": "code",
      "metadata": {
        "colab": {
          "base_uri": "https://localhost:8080/"
        },
        "id": "_mmc2an6qYJg",
        "outputId": "a7f10674-6404-47dd-8d37-03fc3f956ece"
      },
      "source": [
        "\n",
        "def huen_noiter(f,bounds,t0,y0,h): \n",
        "  b0, b1 = bounds\n",
        "  n = int(abs(b1-b0)/h)\n",
        "  t = np.linspace(b0,b1,n+1)\n",
        "  y = np.zeros(t.shape[0])\n",
        "  yP = np.zeros(t.shape[0])\n",
        "\n",
        "  y[0] = y0 \n",
        "\n",
        "  for i in range(len(t)-1): \n",
        "    M0    = f(t[i],y[i]) # slope\n",
        "    y0   = y[i] + f(t[i],y[i])*h  # predictor\n",
        "    ybar = (M0 + f(t[i+1],y0))*0.5\n",
        "    y[i+1]  = y[i] + ybar*h\n",
        "  return t,y\n",
        "\n",
        "def f(t,y): \n",
        "  return (1 + 2*t) * np.sqrt(y)\n",
        "\n",
        "_,y = huen_noiter(f,(0,1),0,1,0.25); print(y)\n",
        "columns.append('Heun')\n",
        "data = np.column_stack((data,y))"
      ],
      "execution_count": null,
      "outputs": [
        {
          "output_type": "stream",
          "text": [
            "[1.         1.33463137 1.88364484 2.72772307 3.97099073]\n"
          ],
          "name": "stdout"
        }
      ]
    },
    {
      "cell_type": "code",
      "metadata": {
        "colab": {
          "base_uri": "https://localhost:8080/"
        },
        "id": "hWow3cuH0lH-",
        "outputId": "a0c9fe93-a84a-4021-b4fa-c5fdbd579424"
      },
      "source": [
        "def ralston(f,bounds,x0,y0,h): \n",
        "  b0, b1 = bounds\n",
        "  n = int(abs(b1-b0)/h)\n",
        "  t = np.linspace(b0,b1,n+1)\n",
        "  y = np.zeros(t.shape[0])\n",
        "  \n",
        "  y[0] = y0\n",
        "\n",
        "  for i in range(len(t) - 1): \n",
        "    k1 = f(y[i],t[i])\n",
        "    k2 = f(y[i]+(2/3)*k1*h, t[i] + (2/3)*h)\n",
        "    print(k1,k2)\n",
        "    y[i+1] = y[i] + ( (1/4)*k1 + (3/4)*k2 )*h \n",
        "  \n",
        "  return t,y\n",
        "\n",
        "def f(y,t): \n",
        "  return (1 + 2*t) * np.sqrt(y)\n",
        "\n",
        "_,y = ralston(f,(0,1),0,1,0.25); print(y)\n",
        "columns.append('Ralston')\n",
        "data = np.column_stack((data,y))\n"
      ],
      "execution_count": null,
      "outputs": [
        {
          "output_type": "stream",
          "text": [
            "1.0 1.4401645996461911\n",
            "1.7315295089820841 2.334258226132445\n",
            "2.741112820841108 3.5657097398014534\n",
            "4.1218283273780765 5.228468456924196\n",
            "[1.         1.33253086 1.87842487 2.718315   3.95626711]\n"
          ],
          "name": "stdout"
        }
      ]
    },
    {
      "cell_type": "code",
      "metadata": {
        "colab": {
          "base_uri": "https://localhost:8080/"
        },
        "id": "G1TNM0VaXoDu",
        "outputId": "e95d15c7-5ef4-4f03-854f-d8a47cb8f7d4"
      },
      "source": [
        "\n",
        "def f(x,y): \n",
        "  return (1+2*x) * np.sqrt(y)\n",
        "\n",
        "from scipy.integrate import solve_ivp\n",
        "\n",
        "res = solve_ivp(f,(b0,b1),(0,1),t_eval=x,method='RK45')\n",
        "print(res)\n",
        "print('')\n",
        "#plt.plot(xdense,Fanaly(xdense),alpha=0.4)\n",
        "#plt.scatter(x,res.y[1],ec='k')\n",
        "#plt.show()\n",
        "\n",
        "columns.append('RK4')\n",
        "data = np.column_stack((data,res.y[1]))\n"
      ],
      "execution_count": null,
      "outputs": [
        {
          "output_type": "stream",
          "text": [
            "  message: 'The solver successfully reached the end of the integration interval.'\n",
            "     nfev: 20\n",
            "     njev: 0\n",
            "      nlu: 0\n",
            "      sol: None\n",
            "   status: 0\n",
            "  success: True\n",
            "        t: array([0.  , 0.25, 0.5 , 0.75, 1.  ])\n",
            " t_events: None\n",
            "        y: array([[0.        , 0.        , 0.        , 0.        , 0.        ],\n",
            "       [1.        , 1.33685683, 1.8905497 , 2.74338016, 4.00050856]])\n",
            " y_events: None\n",
            "\n"
          ],
          "name": "stdout"
        }
      ]
    },
    {
      "cell_type": "markdown",
      "metadata": {
        "id": "N9kqXpbVf9s7"
      },
      "source": [
        "#### Just the answers"
      ]
    },
    {
      "cell_type": "code",
      "metadata": {
        "colab": {
          "base_uri": "https://localhost:8080/",
          "height": 629
        },
        "id": "I4Qq3S5seXPr",
        "outputId": "1a0c6bc8-206e-4a0a-ce53-7c36a671bcd5"
      },
      "source": [
        "df = pd.DataFrame(data,columns=columns)\n",
        "\n",
        "import seaborn as sb \n",
        "sb.set_context('talk')\n",
        "fig,ax = plt.subplots(1,1,figsize=(10,7))\n",
        "ax.plot(xdense,Fanaly(xdense),c='k')\n",
        "ax.plot(df.x,df.analytical,'-o',label='analytical',mec='k',alpha=0.75,zorder=10)\n",
        "ax.plot(df.x,df.Eulers,'-^',label='Eulers',mec='k',alpha=0.75)\n",
        "ax.plot(df.x,df['Heun'],'--X',label='Heun',mec='k',alpha=0.75) \n",
        "ax.plot(df.x,df['Ralston'],'--s',label='Ralston',mec='k',alpha=0.75) \n",
        "ax.plot(df.x,df['RK4'],'--D',label='RK4',mec='k',alpha=0.75) \n",
        "ax.legend()\n",
        "plt.show()\n",
        "\n",
        "\n",
        "df"
      ],
      "execution_count": null,
      "outputs": [
        {
          "output_type": "display_data",
          "data": {
            "image/png": "[encoded data removed]",
            "text/plain": [
              "<Figure size 720x504 with 1 Axes>"
            ]
          },
          "metadata": {
            "tags": [],
            "needs_background": "light"
          }
        },
        {
          "output_type": "execute_result",
          "data": {
            "text/html": [
              "<div>\n",
              "<style scoped>\n",
              "    .dataframe tbody tr th:only-of-type {\n",
              "        vertical-align: middle;\n",
              "    }\n",
              "\n",
              "    .dataframe tbody tr th {\n",
              "        vertical-align: top;\n",
              "    }\n",
              "\n",
              "    .dataframe thead th {\n",
              "        text-align: right;\n",
              "    }\n",
              "</style>\n",
              "<table border=\"1\" class=\"dataframe\">\n",
              "  <thead>\n",
              "    <tr style=\"text-align: right;\">\n",
              "      <th></th>\n",
              "      <th>x</th>\n",
              "      <th>analytical</th>\n",
              "      <th>Eulers</th>\n",
              "      <th>Heun</th>\n",
              "      <th>Ralston</th>\n",
              "      <th>RK4</th>\n",
              "    </tr>\n",
              "  </thead>\n",
              "  <tbody>\n",
              "    <tr>\n",
              "      <th>0</th>\n",
              "      <td>0.00</td>\n",
              "      <td>1.000000</td>\n",
              "      <td>1.000000</td>\n",
              "      <td>1.000000</td>\n",
              "      <td>1.000000</td>\n",
              "      <td>1.000000</td>\n",
              "    </tr>\n",
              "    <tr>\n",
              "      <th>1</th>\n",
              "      <td>0.25</td>\n",
              "      <td>1.336914</td>\n",
              "      <td>1.250000</td>\n",
              "      <td>1.334631</td>\n",
              "      <td>1.332531</td>\n",
              "      <td>1.336857</td>\n",
              "    </tr>\n",
              "    <tr>\n",
              "      <th>2</th>\n",
              "      <td>0.50</td>\n",
              "      <td>1.890625</td>\n",
              "      <td>1.669263</td>\n",
              "      <td>1.883645</td>\n",
              "      <td>1.878425</td>\n",
              "      <td>1.890550</td>\n",
              "    </tr>\n",
              "    <tr>\n",
              "      <th>3</th>\n",
              "      <td>0.75</td>\n",
              "      <td>2.743164</td>\n",
              "      <td>2.315263</td>\n",
              "      <td>2.727723</td>\n",
              "      <td>2.718315</td>\n",
              "      <td>2.743380</td>\n",
              "    </tr>\n",
              "    <tr>\n",
              "      <th>4</th>\n",
              "      <td>1.00</td>\n",
              "      <td>4.000000</td>\n",
              "      <td>3.266262</td>\n",
              "      <td>3.970991</td>\n",
              "      <td>3.956267</td>\n",
              "      <td>4.000509</td>\n",
              "    </tr>\n",
              "  </tbody>\n",
              "</table>\n",
              "</div>"
            ],
            "text/plain": [
              "      x  analytical    Eulers      Heun   Ralston       RK4\n",
              "0  0.00    1.000000  1.000000  1.000000  1.000000  1.000000\n",
              "1  0.25    1.336914  1.250000  1.334631  1.332531  1.336857\n",
              "2  0.50    1.890625  1.669263  1.883645  1.878425  1.890550\n",
              "3  0.75    2.743164  2.315263  2.727723  2.718315  2.743380\n",
              "4  1.00    4.000000  3.266262  3.970991  3.956267  4.000509"
            ]
          },
          "metadata": {
            "tags": []
          },
          "execution_count": 19
        }
      ]
    },
    {
      "cell_type": "markdown",
      "metadata": {
        "id": "Y62LQHUXgIaV"
      },
      "source": [
        "### Question 2\n",
        "\n",
        "(Code Answer Required) Solve the following pair of ODEs over the interval from t = 0 to 0.4 using a step size of 0.1.\n",
        "The initial conditions are y(0) = 2 and z(0) = 4. Obtain your solution with (a) Euler’s method and (b) the fourth-order\n",
        "RK method. Display your results as a plot. \n",
        "\n",
        "$ \\frac{dy}{dt} = -2y + 4e^-t$\n",
        "\n",
        "$ \\frac{dz}{dt} = \\frac{yz^2}{3}$"
      ]
    },
    {
      "cell_type": "code",
      "metadata": {
        "colab": {
          "base_uri": "https://localhost:8080/",
          "height": 466
        },
        "id": "sVONw_ocgMK_",
        "outputId": "d0f1e845-488e-44b8-8807-c0a2f37d8e2e"
      },
      "source": [
        "#(a)\n",
        "\n",
        "# given \n",
        "def f1(t,y,z): \n",
        "  return -2*y + 4*np.exp(-t)\n",
        "\n",
        "def f2(t,y,z): \n",
        "  return -(y*z**2)/3\n",
        "\n",
        "def single_euler(f,args,gi,h): \n",
        "  '''\n",
        "  single iteration of euler integration, where gi is the \n",
        "  approximation at timestep ti. \n",
        "  '''\n",
        "  ynew = gi + f(*args)*h\n",
        "  return ynew\n",
        "\n",
        "b0,b1 = 0, 0.4\n",
        "h = 0.1\n",
        "n = int(abs(b1-b0)/h)\n",
        "\n",
        "t0,y0,z0 = 0.0,2,4\n",
        "args = (t0,y0,z0)#;print(t0,y0,z0)\n",
        "ynew = single_euler(f1,args,y0,h)\n",
        "znew = single_euler(f2,args,z0,h)\n",
        "\n",
        "data = []\n",
        "data.append([t0,y0,z0])\n",
        "\n",
        "for i in range(n):\n",
        "  t0,y0,z0 = t0+h,ynew,znew\n",
        "  #print(t0,ynew,znew)\n",
        "  data.append([t0,ynew,znew])\n",
        "  args = (t0,ynew,znew)\n",
        "  ynew = single_euler(f1,args,y0,h)\n",
        "  znew = single_euler(f2,args,z0,h)\n",
        "  \n",
        "data = pd.DataFrame(data,columns=['t','y','z'])\n",
        "\n",
        "plt.plot(data.t,data.y,'-o',label='y(t) Euler')\n",
        "plt.plot(data.t,data.z,'-o',label='z(t) Euler')\n",
        "plt.legend()\n",
        "plt.show()\n",
        "data\n",
        "\n"
      ],
      "execution_count": null,
      "outputs": [
        {
          "output_type": "display_data",
          "data": {
            "image/png": "[encoded data removed]",
            "text/plain": [
              "<Figure size 432x288 with 1 Axes>"
            ]
          },
          "metadata": {
            "tags": [],
            "needs_background": "light"
          }
        },
        {
          "output_type": "execute_result",
          "data": {
            "text/html": [
              "<div>\n",
              "<style scoped>\n",
              "    .dataframe tbody tr th:only-of-type {\n",
              "        vertical-align: middle;\n",
              "    }\n",
              "\n",
              "    .dataframe tbody tr th {\n",
              "        vertical-align: top;\n",
              "    }\n",
              "\n",
              "    .dataframe thead th {\n",
              "        text-align: right;\n",
              "    }\n",
              "</style>\n",
              "<table border=\"1\" class=\"dataframe\">\n",
              "  <thead>\n",
              "    <tr style=\"text-align: right;\">\n",
              "      <th></th>\n",
              "      <th>t</th>\n",
              "      <th>y</th>\n",
              "      <th>z</th>\n",
              "    </tr>\n",
              "  </thead>\n",
              "  <tbody>\n",
              "    <tr>\n",
              "      <th>0</th>\n",
              "      <td>0.0</td>\n",
              "      <td>2.000000</td>\n",
              "      <td>4.000000</td>\n",
              "    </tr>\n",
              "    <tr>\n",
              "      <th>1</th>\n",
              "      <td>0.1</td>\n",
              "      <td>2.000000</td>\n",
              "      <td>2.933333</td>\n",
              "    </tr>\n",
              "    <tr>\n",
              "      <th>2</th>\n",
              "      <td>0.2</td>\n",
              "      <td>1.961935</td>\n",
              "      <td>2.359704</td>\n",
              "    </tr>\n",
              "    <tr>\n",
              "      <th>3</th>\n",
              "      <td>0.3</td>\n",
              "      <td>1.897040</td>\n",
              "      <td>1.995555</td>\n",
              "    </tr>\n",
              "    <tr>\n",
              "      <th>4</th>\n",
              "      <td>0.4</td>\n",
              "      <td>1.813960</td>\n",
              "      <td>1.743740</td>\n",
              "    </tr>\n",
              "  </tbody>\n",
              "</table>\n",
              "</div>"
            ],
            "text/plain": [
              "     t         y         z\n",
              "0  0.0  2.000000  4.000000\n",
              "1  0.1  2.000000  2.933333\n",
              "2  0.2  1.961935  2.359704\n",
              "3  0.3  1.897040  1.995555\n",
              "4  0.4  1.813960  1.743740"
            ]
          },
          "metadata": {
            "tags": []
          },
          "execution_count": 20
        }
      ]
    },
    {
      "cell_type": "markdown",
      "metadata": {
        "id": "VuH7j7nSl2vG"
      },
      "source": [
        "$ \\frac{dy}{dt} = -2y + 4e^-t$\n",
        "\n",
        "$ \\frac{dz}{dt} = \\frac{yz^2}{3}$"
      ]
    },
    {
      "cell_type": "code",
      "metadata": {
        "colab": {
          "base_uri": "https://localhost:8080/",
          "height": 398
        },
        "id": "mjb9YLR5ickm",
        "outputId": "115f4ac7-1113-4b5d-a66c-69b0c9ce0368"
      },
      "source": [
        "# I will solve as a system of linear eqs. \n",
        "\n",
        "def fsys(t,x): \n",
        "  \"\"\"\n",
        "  define a set of equations as a function of input\n",
        "  arguments x = (y,z) and t. \n",
        "  \"\"\"\n",
        "  y,z = x \n",
        "  dydt = -2*y + 4*np.exp(-t)\n",
        "  dzdt = -y*z**2*(1/3) \n",
        "  return [dydt,dzdt]\n",
        "\n",
        "b0, b1 = 0.0, 0.4\n",
        "h = 0.1\n",
        "n = int(abs(b1-b0)/h)\n",
        "x0 = [2,4]\n",
        "t = np.linspace(b0,b1,n+1)\n",
        "\n",
        "\n",
        "res = solve_ivp(fsys,(b0,b1),x0,t_eval=t)\n",
        "y,z = res.y[0],res.y[1]\n",
        "res = np.column_stack((t,y,z))\n",
        "\n",
        "plt.plot(t,y,'--o',label='y(t) RK')\n",
        "plt.plot(t,z,'--o',label='z(t) RK')\n",
        "plt.plot(data.t,data.z,'-o',label='z(t) Euler')\n",
        "plt.plot(data.t,data.y,'-o',label='y(t) Euler')\n",
        "plt.legend()\n",
        "plt.show()\n",
        "\n",
        "res = pd.DataFrame(res,columns=['t','y','z'])\n",
        "print('RK Results')\n",
        "print(res)"
      ],
      "execution_count": null,
      "outputs": [
        {
          "output_type": "display_data",
          "data": {
            "image/png": "[encoded data removed]",
            "text/plain": [
              "<Figure size 432x288 with 1 Axes>"
            ]
          },
          "metadata": {
            "tags": [],
            "needs_background": "light"
          }
        },
        {
          "output_type": "stream",
          "text": [
            "RK Results\n",
            "     t         y         z\n",
            "0  0.0  2.000000  4.000000\n",
            "1  0.1  1.981894  3.158860\n",
            "2  0.2  1.934294  2.619085\n",
            "3  0.3  1.865645  2.253460\n",
            "4  0.4  1.782618  1.981964\n"
          ],
          "name": "stdout"
        }
      ]
    },
    {
      "cell_type": "markdown",
      "metadata": {
        "id": "9RBxYKsC36hI"
      },
      "source": [
        "### (3) \n",
        "Solve the following initial-value problem over the interval from t = 2 to 3:\n",
        "\n",
        "$ \\frac{dy}{dt} = -0.5y + e^t $ \n",
        "\n",
        "Use the non-self-starting Heun method with a step size of 0.5 and initial conditions of y(1.5) = 5.222138 and y(2.0) =\n",
        "4.143883. Iterate the corrector to $\\epsilon_s$ = 0.1%. Compute the percent relative errors for your results based on the exact\n",
        "solutions obtained analytically: y(2.5) = 3.273888 and y(3.0) = 2.577988.\n"
      ]
    },
    {
      "cell_type": "code",
      "metadata": {
        "id": "p38JnENj5Naz",
        "colab": {
          "base_uri": "https://localhost:8080/",
          "height": 483
        },
        "outputId": "0dce9eb7-ff6e-470e-d391-2a2f1b07f878"
      },
      "source": [
        "# define my non-self starting with iteration huen function\n",
        "def huen(f,bounds,t0,t1,y0,y1,h,tol=1e-1): \n",
        "  max_iter = 100\n",
        "  b0, b1 = bounds\n",
        "  n = int(abs(b1-b0)/h)\n",
        "  \n",
        "  t = [t0] + list(np.linspace(b0,b1,n+1))\n",
        "  t = np.array(t)\n",
        "  t[0] = t0\n",
        "  t[1] = t1\n",
        "\n",
        "  y = np.zeros(t.shape[0])\n",
        "  y[0] = y0\n",
        "  y[1] = y1\n",
        "\n",
        "  for k in range(len(t)): \n",
        "    i = k-1\n",
        "    if i < 1: \n",
        "      continue\n",
        "    else: \n",
        "      yP = y[i-1] + f(y[i],t[i])*2*h\n",
        "      yc = y[i] + 0.5 * h * ( f(t[i],y[i]) + f(t[i+1],yP) ) \n",
        "      err = 100\n",
        "      for K in range(max_iter): \n",
        "        yc_new = y[i] + 0.5 * h * ( f(t[i],y[i]) + f(t[i+1],yc) )\n",
        "        err = 100 * abs(yc_new - yc)/yc\n",
        "        #print(err)\n",
        "        if err < tol: \n",
        "          break\n",
        "        else:\n",
        "          yc = yc_new\n",
        "    #print(i,t[i],y[i],yP,yc,err)\n",
        "    y[i+1] = yc\n",
        "\n",
        "  #print(i,t[i],y[i],yP,yc,err)\n",
        "  return t,y\n",
        "\n",
        "def f(t,y):\n",
        "  return -0.5*y + np.exp(-t)\n",
        "\n",
        "bounds = (2,4)\n",
        "t0 = 1.5\n",
        "t1 = 2 \n",
        "y0 = 5.222138\n",
        "y1 = 4.143883\n",
        "h = 0.5\n",
        "\n",
        "#print('i',  't[i]',   'y[i]',   'yP',   'yc',   'err')\n",
        "t,y  = huen(f,bounds,t0,t1,y0,y1,h)\n",
        "\n",
        "analy = np.zeros(len(t)) \n",
        "analy[2] = 3.273888\n",
        "analy[3] = 2.577988\n",
        "\n",
        "plt.plot(t,y,alpha=0.7,label='Huen non-self starting')\n",
        "\n",
        "# compare with\n",
        "print('compare Huen non-self starting with non-iterating Huen\\n')\n",
        "\n",
        "tt,yy = huen_noiter(f,bounds,t,y1,h)\n",
        "Y = [np.nan] + list(yy)\n",
        "df = pd.DataFrame(np.column_stack((t,y,Y,analy)),columns=['t','Huen NSS','Huen Regular','y_analytical'])\n",
        "df['Huen NSS Error'] = 100 * abs(df.y_analytical - df['Huen NSS'])/df.y_analytical\n",
        "df['Huen Reg Error'] = 100 * abs(df.y_analytical - df['Huen Regular'])/df.y_analytical\n",
        "plt.plot(tt,yy,alpha=0.7,label='Huen non-iteration')\n",
        "plt.scatter(2.5,3.273888,label='analytical y(2.5)',c='g',zorder=10)\n",
        "plt.scatter(3.0,2.577988,label='analytical y(3.0)',c='r',zorder=10)\n",
        "plt.legend(fontsize='x-small')\n",
        "plt.show()\n",
        "print(df)\n",
        "print('')\n",
        "print('The Huen method provides a good estimate of the true solution, \\nbut the Huen non-self starting (NSS) has lower true error. ')"
      ],
      "execution_count": null,
      "outputs": [
        {
          "output_type": "stream",
          "text": [
            "compare Huen non-self starting with non-iterating Huen\n",
            "\n"
          ],
          "name": "stdout"
        },
        {
          "output_type": "display_data",
          "data": {
            "image/png": "[encoded data removed]",
            "text/plain": [
              "<Figure size 432x288 with 1 Axes>"
            ]
          },
          "metadata": {
            "tags": [],
            "needs_background": "light"
          }
        },
        {
          "output_type": "stream",
          "text": [
            "     t  Huen NSS  Huen Regular  y_analytical  Huen NSS Error  Huen Reg Error\n",
            "0  1.5  5.222138           NaN      0.000000             inf             NaN\n",
            "1  2.0  4.143883      4.143883      0.000000             inf             inf\n",
            "2  2.5  3.269448      3.283305      3.273888        0.135627        0.287646\n",
            "3  3.0  2.571506      2.592920      2.577988        0.251431        0.579207\n",
            "4  3.5  2.018171      2.042603      0.000000             inf             inf\n",
            "5  4.0  1.581692      1.606025      0.000000             inf             inf\n",
            "\n",
            "The Huen method provides a good estimate of the true solution, \n",
            "but the Huen non-self starting (NSS) has lower true error. \n"
          ],
          "name": "stdout"
        }
      ]
    },
    {
      "cell_type": "markdown",
      "metadata": {
        "id": "uqcTvJ0u42Um"
      },
      "source": [
        "### (4) \n",
        " Solve the following initial-value problem over the interval from t = 0 to t = 0.5\n",
        "\n",
        " $\\frac{dy}{dt} = yt^2 - y$\n",
        "\n",
        "Use the fourth-order RK method to predict the first value at t = 0.25. Then use the non-self-starting Heun method to\n",
        "make the prediction at t = 0.5. Note: y(0) = 1."
      ]
    },
    {
      "cell_type": "code",
      "metadata": {
        "colab": {
          "base_uri": "https://localhost:8080/",
          "height": 500
        },
        "id": "Gwbi23Q45N1B",
        "outputId": "24b84c91-e783-4dc3-97a8-785e421ce51b"
      },
      "source": [
        "#res = solve_ivp(f,(b0,b1),(0,1),t_eval=x,method='RK45')\n",
        "\n",
        "def f(t,y): \n",
        "  return y*t**2 - y\n",
        "\n",
        "# for checking answers\n",
        "def Fanaly(t): \n",
        "  return np.exp((1/3)*t**3 - t)\n",
        "\n",
        "\n",
        "from scipy.integrate import solve_ivp\n",
        "\n",
        "b0,b1 = 0, 0.5\n",
        "t_span = (b0,b1)\n",
        "y0 = 1 \n",
        "h = 0.25\n",
        "n = int(abs(b1-b0)/h)\n",
        "t_eval=np.linspace(0,0.5,n+1)\n",
        "print(t_eval)\n",
        "res = solve_ivp(f,(b0,b1),[y0],t_eval=t_eval,method='RK23',dense_output=True)\n",
        "\n",
        "print(res)\n",
        "\n",
        "xdense = np.linspace(0,0.5,100)\n",
        "plt.plot(xdense,Fanaly(xdense),label='analytical solution',c='k',zorder=-1,ls='--',lw=1)\n",
        "plt.scatter(res.t,res.y[0],label='RK45 solution')\n",
        "plt.plot(res.t,res.y[0])\n",
        "plt.legend()\n",
        "plt.show() \n",
        "y1 = res.sol(0.25)\n",
        "print(f'y(x=0.25) = {y1}')"
      ],
      "execution_count": null,
      "outputs": [
        {
          "output_type": "stream",
          "text": [
            "[0.   0.25 0.5 ]\n",
            "  message: 'The solver successfully reached the end of the integration interval.'\n",
            "     nfev: 11\n",
            "     njev: 0\n",
            "      nlu: 0\n",
            "      sol: <scipy.integrate._ivp.common.OdeSolution object at 0x7f4afa394ad0>\n",
            "   status: 0\n",
            "  success: True\n",
            "        t: array([0.  , 0.25, 0.5 ])\n",
            " t_events: None\n",
            "        y: array([[1.        , 0.78281724, 0.63221007]])\n",
            " y_events: None\n"
          ],
          "name": "stdout"
        },
        {
          "output_type": "display_data",
          "data": {
            "image/png": "[encoded data removed]",
            "text/plain": [
              "<Figure size 432x288 with 1 Axes>"
            ]
          },
          "metadata": {
            "tags": [],
            "needs_background": "light"
          }
        },
        {
          "output_type": "stream",
          "text": [
            "y(x=0.25) = [0.78281724]\n"
          ],
          "name": "stdout"
        }
      ]
    },
    {
      "cell_type": "code",
      "metadata": {
        "colab": {
          "base_uri": "https://localhost:8080/",
          "height": 364
        },
        "id": "AVx3dAwGg0uh",
        "outputId": "728bc9af-9520-4706-ed5d-faf4b414ac54"
      },
      "source": [
        "#huen(f,bound,t0,t1,y0,y1,h,tol)\n",
        "\n",
        "t,y = huen(f,(0.25,0.5), 0,0.25, 1,y1, h=0.25,tol=1e-1)\n",
        "plt.plot(t,y)\n",
        "plt.scatter(t,y,label='Huen Method')\n",
        "plt.plot(xdense,Fanaly(xdense),label='analytical solution',c='k',zorder=-1,ls='--',lw=1)\n",
        "plt.legend()\n",
        "plt.show() \n",
        "print(np.column_stack((t,y)))\n",
        "print(f'\\ny(3.0) = {y[-1]}')"
      ],
      "execution_count": null,
      "outputs": [
        {
          "output_type": "display_data",
          "data": {
            "image/png": "[encoded data removed]",
            "text/plain": [
              "<Figure size 432x288 with 1 Axes>"
            ]
          },
          "metadata": {
            "tags": [],
            "needs_background": "light"
          }
        },
        {
          "output_type": "stream",
          "text": [
            "[[0.         1.        ]\n",
            " [0.25       0.78281724]\n",
            " [0.5        0.63158187]]\n",
            "\n",
            "y(3.0) = 0.6315818720535153\n"
          ],
          "name": "stdout"
        }
      ]
    },
    {
      "cell_type": "markdown",
      "metadata": {
        "id": "fJQ73A-e5A8r"
      },
      "source": [
        "### 5 \n",
        "\n",
        "Solve the following differential equation using the finite-difference method using\n",
        "\n",
        "$7\\frac{d^2y}{dx^2} - 2\\frac{dy}{dx} -y + x = 0$\n",
        "\n",
        "The boundary conditions are y(0) = 5 and y(20)=8, and use the increment: Δx = 2."
      ]
    },
    {
      "cell_type": "markdown",
      "metadata": {
        "id": "0vYuA_3XUIQd"
      },
      "source": [
        "The general analytical solution is\n",
        "\n",
        "$y(x) = c_1  e^(\\frac{1+2\\sqrt(2)x}{7}) + c_2  e^(\\frac{1-2\\sqrt(2)x}{7}) $\n",
        "\n",
        "Solving for $c_1$ and $c_2$ "
      ]
    },
    {
      "cell_type": "code",
      "metadata": {
        "colab": {
          "base_uri": "https://localhost:8080/"
        },
        "id": "XNG7PShtT-Pc",
        "outputId": "1c5ed9fe-da41-48f3-e460-8a0406cdafa6"
      },
      "source": [
        "# Analytical solution\n",
        "\n",
        "\n",
        "# setup system of eqs.\n",
        "k1 = (1 + 2*np.sqrt(2))/7\n",
        "k2 = (1 - 2*np.sqrt(2))/7\n",
        " \n",
        "A = np.array([\n",
        "              [np.exp(k1*0), np.exp(k2*0)],\n",
        "              [np.exp(k1*20), np.exp(k2*20)],\n",
        "              ])\n",
        "b = np.array([7,-10])\n",
        "\n",
        "print(f\"A = \\n{A}\\n\")\n",
        "# solve for the c1 and c2 constants\n",
        "C1, C2 = np.linalg.solve(A,b)\n",
        "print('C1 and C2 = ')\n",
        "print(C1,C2)\n",
        "\n",
        "\n",
        "def fanaly(x,c1,c2):\n",
        "  e1 = 1 + 2*np.sqrt(2)\n",
        "  e2 = 1 - 2*np.sqrt(2)\n",
        "  return c1*np.exp(e1*x/7) + c2*np.exp(e2*x/7) + x - 2 \n",
        "\n",
        "\n"
      ],
      "execution_count": null,
      "outputs": [
        {
          "output_type": "stream",
          "text": [
            "A = \n",
            "[[1.00000000e+00 1.00000000e+00]\n",
            " [5.62951246e+04 5.38532564e-03]]\n",
            "\n",
            "C1 and C2 = \n",
            "-0.0001783049297990012 7.000178304929799\n"
          ],
          "name": "stdout"
        }
      ]
    },
    {
      "cell_type": "markdown",
      "metadata": {
        "id": "b-RcVjGDig6P"
      },
      "source": [
        "Using central-finite difference, the function is transformed to\n",
        "\n",
        "$ 7[\\frac{ y_{i-1} - 2y_i + y_{i+1}}{h^2}] - 2 [\\frac{ -y_{i-1} + y_{i+1}}{2h}] - y_i = - x $ \n",
        "\n",
        "Build a matrix solving with three matrix constants:  \n",
        "$c_{i-1} = 7 + h $,  \n",
        "$c_i   = -14 - h^2 $,  \n",
        "$c_{i+1} = 7 - h$ "
      ]
    },
    {
      "cell_type": "code",
      "metadata": {
        "colab": {
          "base_uri": "https://localhost:8080/",
          "height": 721
        },
        "id": "KbIf4QufJ4jT",
        "outputId": "8633f317-97f1-4fee-c112-8ec8225018eb"
      },
      "source": [
        "\n",
        "# Boundary conditions\n",
        "b0,b1 = 0,20\n",
        "x0,xN = 0, 20\n",
        "y0,yN = 5, 8\n",
        "h = 2\n",
        "n = int(abs(b1-b0)/h) - 1\n",
        "\n",
        "# setup matrix\n",
        "A = np.zeros((n,n))\n",
        "\n",
        "# define matrix constants\n",
        "h2 = h**2\n",
        "c_back = 7 + h \n",
        "c      = -14 - h2\n",
        "c_forw = 7 - h\n",
        "\n",
        "# build matrix\n",
        "print(c_back,c,c_forw)\n",
        "for i in range(1,n-1):\n",
        "  for j in range(n):\n",
        "    if i==j:\n",
        "      A[i,j]=c\n",
        "    elif j==i-1:\n",
        "      A[i,j]=c_back\n",
        "    elif j==i+1:\n",
        "      A[i,j]=c_forw\n",
        "    else:\n",
        "      A[i,j]=0.0\n",
        "A[0,:2] =   c, c_forw\n",
        "A[-1,-2:] = c_back, c\n",
        "\n",
        "# setup b matrix \n",
        "b = np.linspace(0,20,n+2)\n",
        "b = b[1:-1]  \n",
        "b[1:-1] = b[1:-1] * -h2  \n",
        "b[0] = b[0]*-h2 - c_back*y0\n",
        "b[-1] = b[-1]*-h2 - c_forw*yN\n",
        "\n",
        "# solve \n",
        "y = np.linalg.solve(A,b)\n",
        "\n",
        "Y = [y0] + list(y) + [yN]\n",
        "t = np.linspace(b0,b1,len(Y))\n",
        "print('')\n",
        "print('A Matrix: ')\n",
        "print(pd.DataFrame(A))\n",
        "print('')\n",
        "print('b Matrix: ')\n",
        "print(pd.DataFrame(b))\n",
        "print('')\n",
        "xdense = np.linspace(0,20,100)\n",
        "plt.plot(xdense,fanaly(xdense,C1,C2),label='analytical',ls=':',alpha=0.7)\n",
        "plt.scatter(t,Y,ec='k',label='finite-diff meth')\n",
        "plt.legend()\n",
        "plt.show()"
      ],
      "execution_count": null,
      "outputs": [
        {
          "output_type": "stream",
          "text": [
            "9 -18 5\n",
            "\n",
            "A Matrix: \n",
            "      0     1     2     3     4     5     6     7     8\n",
            "0 -18.0   5.0   0.0   0.0   0.0   0.0   0.0   0.0   0.0\n",
            "1   9.0 -18.0   5.0   0.0   0.0   0.0   0.0   0.0   0.0\n",
            "2   0.0   9.0 -18.0   5.0   0.0   0.0   0.0   0.0   0.0\n",
            "3   0.0   0.0   9.0 -18.0   5.0   0.0   0.0   0.0   0.0\n",
            "4   0.0   0.0   0.0   9.0 -18.0   5.0   0.0   0.0   0.0\n",
            "5   0.0   0.0   0.0   0.0   9.0 -18.0   5.0   0.0   0.0\n",
            "6   0.0   0.0   0.0   0.0   0.0   9.0 -18.0   5.0   0.0\n",
            "7   0.0   0.0   0.0   0.0   0.0   0.0   9.0 -18.0   5.0\n",
            "8   0.0   0.0   0.0   0.0   0.0   0.0   0.0   9.0 -18.0\n",
            "\n",
            "b Matrix: \n",
            "       0\n",
            "0  -53.0\n",
            "1  -16.0\n",
            "2  -24.0\n",
            "3  -32.0\n",
            "4  -40.0\n",
            "5  -48.0\n",
            "6  -56.0\n",
            "7  -64.0\n",
            "8 -112.0\n",
            "\n"
          ],
          "name": "stdout"
        },
        {
          "output_type": "display_data",
          "data": {
            "image/png": "[encoded data removed]",
            "text/plain": [
              "<Figure size 432x288 with 1 Axes>"
            ]
          },
          "metadata": {
            "tags": [],
            "needs_background": "light"
          }
        }
      ]
    }
  ]
}