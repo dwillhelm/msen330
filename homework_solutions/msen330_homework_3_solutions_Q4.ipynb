{
  "nbformat": 4,
  "nbformat_minor": 0,
  "metadata": {
    "colab": {
      "name": "msen330_homework_3_solutions_Q4.ipynb",
      "provenance": [],
      "collapsed_sections": []
    },
    "kernelspec": {
      "name": "python3",
      "display_name": "Python 3"
    }
  },
  "cells": [
    {
      "cell_type": "code",
      "metadata": {
        "id": "xTWB4toL0u5Y"
      },
      "source": [
        "import numpy as np \n",
        "import matplotlib.pyplot as plt\n",
        "import seaborn as sb\n",
        "import pandas as pd\n",
        "\n",
        "def myax(ax):\n",
        "    ax.grid(True,alpha=0.2)\n",
        "    ax.axhline(0,lw=1,c='k')\n",
        "    ax.axvline(0,lw=1,c='k')\n",
        "    ax.legend()\n",
        "\n",
        "\n",
        "def ForwardFiniteDiff(f,x,dx=1e-6,xopt_true=None):\n",
        "  return ( f(x+dx) - f(x) ) / (dx)\n",
        "\n",
        "def CentralFiniteDiff(f,x,dx=1e-6): \n",
        "  return ( f(x+dx) - f(x-dx)) / (2*dx)\n",
        "\n",
        "def SecondOrderFiniteDiff(f,x,dx=1e-6): \n",
        "  return ( f(x+dx) - 2*f(x) + f(x-dx) ) / (dx**2)\n",
        "\n",
        "def NewtonRaphsonRoot(f,x0,tol=1e-6,xtrue=None,max_iter=50): \n",
        "  # initialize: \n",
        "  err = np.nan\n",
        "  data = [] \n",
        "  if f(x0) == 0.0:\n",
        "      return x0\n",
        "  for i in range(max_iter):\n",
        "      dfdx = CentralFiniteDiff(f,x0)\n",
        "      f0 = f(x0)\n",
        "      x = x0 - (f0 / dfdx)\n",
        "      err = abs((x - x0)/x) * 100\n",
        "      x0 = x \n",
        "      data.append([x,err])\n",
        "      if (err < tol) or (f0 == 0.0): \n",
        "          break \n",
        "  data = pd.DataFrame(data,columns=['x_root','Ea'])\n",
        "  # calculate true error (Et) if possible:\n",
        "  if xtrue is not None: \n",
        "      data['Et'] = abs((data.x_root - xtrue)/xtrue) * 100\n",
        "  \n",
        "  print(f'numerical root = {x}')\n",
        "  print(f'approx. error  = {err}%')\n",
        "  return x, data"
      ],
      "execution_count": null,
      "outputs": []
    },
    {
      "cell_type": "code",
      "metadata": {
        "colab": {
          "base_uri": "https://localhost:8080/",
          "height": 285
        },
        "id": "Kl5RPbjd00lb",
        "outputId": "3a5c086d-91e9-4b8d-b112-333c6780d164"
      },
      "source": [
        "def cP(T): \n",
        "  a0, a1, a2, a3, a4 = (0.99403, 1.671e-4, 9.7215e-8, -9.5838e-11, 1.9520e-14)\n",
        "  return a0 + a1*T + a2*T**2 + a3*T**3 + a4*T**4  \n",
        "\n",
        "T = np.linspace(0,1200,200)\n",
        "fig,ax = plt.subplots(1,1)\n",
        "ax.plot(T,cP(T))\n",
        "myax(ax)\n",
        "ax.set_ybound(0.95,1.25)\n"
      ],
      "execution_count": null,
      "outputs": [
        {
          "output_type": "stream",
          "text": [
            "No handles with labels found to put in legend.\n"
          ],
          "name": "stderr"
        },
        {
          "output_type": "display_data",
          "data": {
            "image/png": "[encoded data removed]",
            "text/plain": [
              "<Figure size 432x288 with 1 Axes>"
            ]
          },
          "metadata": {
            "tags": [],
            "needs_background": "light"
          }
        }
      ]
    },
    {
      "cell_type": "code",
      "metadata": {
        "id": "2bwL4t6s3z4E"
      },
      "source": [
        "# To find a temperature that corresponds to a cP of 1.1 kJ/(kg K), even though cP does not cross x-axis, can still be done. \n",
        "#     1.1 = f(x)  --> 0 = f(x) - 1.1\n",
        "# and solve. \n",
        " \n",
        "\n",
        "def fcP(x):\n",
        "  return cP(x) - 1.1\n",
        "\n"
      ],
      "execution_count": null,
      "outputs": []
    },
    {
      "cell_type": "code",
      "metadata": {
        "colab": {
          "base_uri": "https://localhost:8080/"
        },
        "id": "tQfRVC5G00oB",
        "outputId": "3b75bc40-0e2b-43a2-aed3-ae21f64fb3b2"
      },
      "source": [
        "\n",
        "\n",
        "xr, res = NewtonRaphsonRoot(fcP,0.1)\n",
        "\n",
        "\n",
        "print(f'\\nThe temperature with a Cp - 1.1 kJ/(kg K) = {xr} K')"
      ],
      "execution_count": null,
      "outputs": [
        {
          "output_type": "stream",
          "text": [
            "numerical root = 544.087537655509\n",
            "approx. error  = 1.669506780673301e-11%\n",
            "\n",
            "The temperature with a Cp - 1.1 kJ/(kg K) = 544.087537655509 K\n"
          ],
          "name": "stdout"
        }
      ]
    },
    {
      "cell_type": "code",
      "metadata": {
        "id": "SWaVE9yF00qd"
      },
      "source": [
        ""
      ],
      "execution_count": null,
      "outputs": []
    },
    {
      "cell_type": "code",
      "metadata": {
        "colab": {
          "base_uri": "https://localhost:8080/",
          "height": 297
        },
        "id": "5ewf1zWx00s0",
        "outputId": "183e12c1-4408-4abf-c4e5-45106c7ac34d"
      },
      "source": [
        "# plot again\n",
        "T = np.linspace(0,1200,200)\n",
        "fig,ax = plt.subplots(1,1)\n",
        "ax.plot(T,fcP(T))\n",
        "myax(ax)\n",
        "ax.set_ybound()\n",
        "ax.scatter(xr,fcP(xr),label=f'cP(1.1) = {xr}')\n",
        "ax.legend()"
      ],
      "execution_count": null,
      "outputs": [
        {
          "output_type": "stream",
          "text": [
            "No handles with labels found to put in legend.\n"
          ],
          "name": "stderr"
        },
        {
          "output_type": "execute_result",
          "data": {
            "text/plain": [
              "<matplotlib.legend.Legend at 0x7fd3caf05f90>"
            ]
          },
          "metadata": {
            "tags": []
          },
          "execution_count": 29
        },
        {
          "output_type": "display_data",
          "data": {
            "image/png": "[encoded data removed]",
            "text/plain": [
              "<Figure size 432x288 with 1 Axes>"
            ]
          },
          "metadata": {
            "tags": [],
            "needs_background": "light"
          }
        }
      ]
    }
  ]
}